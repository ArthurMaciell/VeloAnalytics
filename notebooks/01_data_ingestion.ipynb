{
 "cells": [
  {
   "cell_type": "markdown",
   "id": "c9ee69dd",
   "metadata": {},
   "source": [
    "1. Data Ingestion"
   ]
  },
  {
   "cell_type": "code",
   "execution_count": 3,
   "id": "1f8d987e",
   "metadata": {},
   "outputs": [],
   "source": [
    "import os"
   ]
  },
  {
   "cell_type": "code",
   "execution_count": 1,
   "id": "fbfa52c5",
   "metadata": {},
   "outputs": [
    {
     "data": {
      "text/plain": [
       "'c:\\\\Users\\\\Orçamento\\\\Desktop\\\\Bike Sales\\\\VeloAnalytics\\\\notebooks'"
      ]
     },
     "execution_count": 1,
     "metadata": {},
     "output_type": "execute_result"
    }
   ],
   "source": [
    "%pwd"
   ]
  },
  {
   "cell_type": "code",
   "execution_count": 4,
   "id": "439ada4b",
   "metadata": {},
   "outputs": [],
   "source": [
    "os.chdir('../')"
   ]
  },
  {
   "cell_type": "code",
   "execution_count": 5,
   "id": "4c4a75fb",
   "metadata": {},
   "outputs": [
    {
     "data": {
      "text/plain": [
       "'c:\\\\Users\\\\Orçamento\\\\Desktop\\\\Bike Sales\\\\VeloAnalytics'"
      ]
     },
     "execution_count": 5,
     "metadata": {},
     "output_type": "execute_result"
    }
   ],
   "source": [
    "%pwd"
   ]
  },
  {
   "cell_type": "markdown",
   "id": "0096adb2",
   "metadata": {},
   "source": [
    "Entity"
   ]
  },
  {
   "cell_type": "code",
   "execution_count": 11,
   "id": "4e376320",
   "metadata": {},
   "outputs": [],
   "source": [
    "from dataclasses import dataclass\n",
    "from pathlib import Path"
   ]
  },
  {
   "cell_type": "code",
   "execution_count": 19,
   "id": "be227efc",
   "metadata": {},
   "outputs": [],
   "source": [
    "# --- Data Ingestion Configuration Entity ---\n",
    "# This defines the structure for the data ingestion configuration.\n",
    "@dataclass(frozen=True)\n",
    "class DataIngestionConfig:\n",
    "    root_dir: Path\n",
    "    source_zip_file: Path\n",
    "    unzip_dir: Path"
   ]
  },
  {
   "cell_type": "markdown",
   "id": "ed4c0e15",
   "metadata": {},
   "source": [
    "Config"
   ]
  },
  {
   "cell_type": "code",
   "execution_count": null,
   "id": "e90a23d9",
   "metadata": {},
   "outputs": [],
   "source": [
    "from src.utils import read_yaml, create_directories\n",
    "from pathlib import Path"
   ]
  },
  {
   "cell_type": "code",
   "execution_count": 21,
   "id": "eed0a291",
   "metadata": {},
   "outputs": [],
   "source": [
    "class ConfigurationManager:\n",
    "    def __init__(\n",
    "        self, \n",
    "        config_filepath = Path(\"config.yaml\")):\n",
    "        \"\"\"\n",
    "        Initializes the ConfigurationManager by reading the main config file.\n",
    "        It also creates the main artifacts directory.\n",
    "        \"\"\"\n",
    "        self.config = read_yaml(config_filepath)\n",
    "        create_directories([Path(self.config.artifacts_root)])\n",
    "\n",
    "    def get_data_ingestion_config(self) -> DataIngestionConfig:\n",
    "        \"\"\"\n",
    "        Extracts the data ingestion configuration from the main config file,\n",
    "        creates its specific artifact directory, and returns it as a \n",
    "        DataIngestionConfig object.\n",
    "        \"\"\"\n",
    "        # Get the data_ingestion section from the config file\n",
    "        config = self.config.data_ingestion\n",
    "\n",
    "        # Create the specific directory for this component (e.g., artifacts/data_ingestion)\n",
    "        create_directories([Path(config.root_dir)])\n",
    "\n",
    "        # Create and return the structured configuration object using the blueprint from the entity file\n",
    "        data_ingestion_config = DataIngestionConfig(\n",
    "            root_dir=Path(config.root_dir),\n",
    "            source_zip_file=Path(config.source_zip_file),\n",
    "            unzip_dir=Path(config.unzip_dir)\n",
    "        )\n",
    "\n",
    "        return data_ingestion_config"
   ]
  },
  {
   "cell_type": "markdown",
   "id": "f778892b",
   "metadata": {},
   "source": [
    "Components"
   ]
  },
  {
   "cell_type": "code",
   "execution_count": 22,
   "id": "45f7c8f4",
   "metadata": {},
   "outputs": [],
   "source": [
    "import os\n",
    "import zipfile\n",
    "from pathlib import Path\n",
    "from src.logging import logger\n",
    "\n",
    "class DataIngestion:\n",
    "    def __init__(self, config: DataIngestionConfig):\n",
    "        \"\"\"\n",
    "        Initializes the DataIngestion component with its configuration.\n",
    "        \"\"\"\n",
    "        self.config = config\n",
    "\n",
    "    def unzip_source_file(self):\n",
    "        \"\"\"\n",
    "        Unzips the source file into the specified directory from the configuration.\n",
    "        \"\"\"\n",
    "        logger.info(f\"Unzipping source file: {self.config.source_zip_file} into {self.config.unzip_dir}\")\n",
    "        \n",
    "        # Ensure the target directory exists before unzipping\n",
    "        os.makedirs(self.config.unzip_dir, exist_ok=True)\n",
    "        \n",
    "        with zipfile.ZipFile(self.config.source_zip_file, 'r') as zip_ref:\n",
    "            zip_ref.extractall(self.config.unzip_dir)\n",
    "            logger.info(f\"Successfully unzipped file to {self.config.unzip_dir}\")"
   ]
  },
  {
   "cell_type": "code",
   "execution_count": 23,
   "id": "624d2015",
   "metadata": {},
   "outputs": [
    {
     "name": "stdout",
     "output_type": "stream",
     "text": [
      "[2025-08-27 15:51:01,392: INFO: utils: YAML file loaded successfully: config.yaml]\n",
      "[2025-08-27 15:51:01,396: INFO: utils: Directory created or already exists: artifacts]\n",
      "[2025-08-27 15:51:01,398: INFO: utils: Directory created or already exists: artifacts\\data_ingestion]\n",
      "[2025-08-27 15:51:01,400: INFO: 1630349312: Unzipping source file: BI Test.zip into artifacts\\data_ingestion\\unzipped_data]\n",
      "[2025-08-27 15:51:01,446: INFO: 1630349312: Successfully unzipped file to artifacts\\data_ingestion\\unzipped_data]\n",
      "[2025-08-27 15:51:01,448: INFO: 357816678: >>>>>> Stage Data Transformation stage completed <<<<<<\n",
      "\n",
      "x==========x]\n"
     ]
    }
   ],
   "source": [
    "# --- STAGE 3: DATA TRANSFORMATION ---\n",
    "STAGE_NAME = \"Data Transformation stage\"\n",
    "try:\n",
    "    # Initialize the configuration manager\n",
    "    config = ConfigurationManager()\n",
    "            \n",
    "    # Get the specific configuration for data ingestion\n",
    "    data_ingestion_config = config.get_data_ingestion_config()\n",
    "            \n",
    "    # Initialize the data ingestion component with the configuration\n",
    "    data_ingestion = DataIngestion(config=data_ingestion_config)\n",
    "            \n",
    "    # Run the unzipping process\n",
    "    data_ingestion.unzip_source_file()\n",
    "    logger.info(f\">>>>>> Stage {STAGE_NAME} completed <<<<<<\\n\\nx==========x\")\n",
    "except Exception as e:\n",
    "    logger.exception(e)\n",
    "    raise e"
   ]
  }
 ],
 "metadata": {
  "kernelspec": {
   "display_name": ".venv",
   "language": "python",
   "name": "python3"
  },
  "language_info": {
   "codemirror_mode": {
    "name": "ipython",
    "version": 3
   },
   "file_extension": ".py",
   "mimetype": "text/x-python",
   "name": "python",
   "nbconvert_exporter": "python",
   "pygments_lexer": "ipython3",
   "version": "3.11.9"
  }
 },
 "nbformat": 4,
 "nbformat_minor": 5
}
