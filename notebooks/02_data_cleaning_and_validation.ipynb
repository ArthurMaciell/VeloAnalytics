{
 "cells": [
  {
   "cell_type": "markdown",
   "id": "6cd2ab90",
   "metadata": {},
   "source": [
    "2- Data Cleaning"
   ]
  },
  {
   "cell_type": "code",
   "execution_count": 1,
   "id": "cb840771",
   "metadata": {},
   "outputs": [],
   "source": [
    "import os"
   ]
  },
  {
   "cell_type": "code",
   "execution_count": 2,
   "id": "e8baf228",
   "metadata": {},
   "outputs": [
    {
     "data": {
      "text/plain": [
       "'c:\\\\Users\\\\Orçamento\\\\Desktop\\\\Bike Sales\\\\VeloAnalytics\\\\notebooks'"
      ]
     },
     "execution_count": 2,
     "metadata": {},
     "output_type": "execute_result"
    }
   ],
   "source": [
    "%pwd"
   ]
  },
  {
   "cell_type": "code",
   "execution_count": 3,
   "id": "8718fa0e",
   "metadata": {},
   "outputs": [],
   "source": [
    "os.chdir('../')"
   ]
  },
  {
   "cell_type": "code",
   "execution_count": 4,
   "id": "4d391276",
   "metadata": {},
   "outputs": [
    {
     "data": {
      "text/plain": [
       "'c:\\\\Users\\\\Orçamento\\\\Desktop\\\\Bike Sales\\\\VeloAnalytics'"
      ]
     },
     "execution_count": 4,
     "metadata": {},
     "output_type": "execute_result"
    }
   ],
   "source": [
    "%pwd"
   ]
  },
  {
   "cell_type": "code",
   "execution_count": 5,
   "id": "9b3e0517",
   "metadata": {},
   "outputs": [],
   "source": [
    "from dataclasses import dataclass\n",
    "from pathlib import Path"
   ]
  },
  {
   "cell_type": "code",
   "execution_count": 6,
   "id": "9de3bc51",
   "metadata": {},
   "outputs": [],
   "source": [
    "# --- Data Validation Configuration Entity ---\n",
    "# This defines the structure for the data validation configuration.\n",
    "@dataclass(frozen=True)\n",
    "class DataValidationConfig:\n",
    "    root_dir: Path\n",
    "    unzip_data_dir: Path\n",
    "    status_file: Path"
   ]
  },
  {
   "cell_type": "code",
   "execution_count": 7,
   "id": "19f919c2",
   "metadata": {},
   "outputs": [],
   "source": [
    "from src.utils import read_yaml, create_directories\n",
    "from pathlib import Path"
   ]
  },
  {
   "cell_type": "code",
   "execution_count": 8,
   "id": "20d79ea2",
   "metadata": {},
   "outputs": [],
   "source": [
    "class ConfigurationManager:\n",
    "    def __init__(\n",
    "        self, \n",
    "        config_filepath = Path(\"config.yaml\")):\n",
    "        \"\"\"\n",
    "        Initializes the ConfigurationManager by reading the main config file.\n",
    "        It also creates the main artifacts directory.\n",
    "        \"\"\"\n",
    "        self.config = read_yaml(config_filepath)\n",
    "        create_directories([Path(self.config.artifacts_root)])\n",
    "    def get_data_validation_config(self) -> DataValidationConfig:\n",
    "        \"\"\"\n",
    "        Extracts the data validation configuration from the main config file,\n",
    "        creates its specific artifact directory, and returns it as a \n",
    "        DataValidationConfig object.\n",
    "        \"\"\"\n",
    "        config = self.config.data_validation\n",
    "        create_directories([Path(config.root_dir)])\n",
    "\n",
    "        data_validation_config = DataValidationConfig(\n",
    "            root_dir=Path(config.root_dir),\n",
    "            unzip_data_dir=Path(config.unzip_data_dir),\n",
    "            status_file=Path(config.status_file)\n",
    "        )\n",
    "        return data_validation_config"
   ]
  },
  {
   "cell_type": "code",
   "execution_count": 9,
   "id": "10fd17ef",
   "metadata": {},
   "outputs": [],
   "source": [
    "from src.logging import logger\n",
    "\n",
    "class DataValidation:\n",
    "    def __init__(self, config: DataValidationConfig):\n",
    "        \"\"\"\n",
    "        Initializes the DataValidation component with its configuration.\n",
    "        \"\"\"\n",
    "        self.config = config\n",
    "\n",
    "    def validate_all_files_exist(self) -> bool:\n",
    "        \"\"\"\n",
    "        Validates that all expected files exist in the unzipped data directory.\n",
    "        For this project, we expect 9 CSV files.\n",
    "        \"\"\"\n",
    "        try:\n",
    "            validation_status = True\n",
    "            \n",
    "            # Get a list of all files in the directory\n",
    "            all_files = os.listdir(self.config.unzip_data_dir)\n",
    "            \n",
    "            # For this specific challenge, we know there should be 9 CSV files.\n",
    "            # A more robust solution could take a list of required files from the config.\n",
    "            expected_file_count = 9\n",
    "            \n",
    "            if len(all_files) != expected_file_count:\n",
    "                validation_status = False\n",
    "                logger.warning(f\"File count validation failed. Expected {expected_file_count} files, but found {len(all_files)}.\")\n",
    "            else:\n",
    "                logger.info(f\"File count validation successful. Found {len(all_files)} files.\")\n",
    "\n",
    "            # Write the final validation status to the status file\n",
    "            with open(self.config.status_file, \"w\") as f:\n",
    "                f.write(f\"Validation status: {validation_status}\")\n",
    "            \n",
    "            return validation_status\n",
    "\n",
    "        except Exception as e:\n",
    "            logger.error(f\"An error occurred during file validation: {e}\")\n",
    "            # Ensure status is written as false if an error occurs\n",
    "            with open(self.config.status_file, \"w\") as f:\n",
    "                f.write(f\"Validation status: False\")\n",
    "            return False"
   ]
  },
  {
   "cell_type": "code",
   "execution_count": null,
   "id": "772b0c8c",
   "metadata": {},
   "outputs": [
    {
     "name": "stdout",
     "output_type": "stream",
     "text": [
      "[2025-08-27 16:00:26,072: INFO: 566605: >>>>>> Stage 'Data Validation stage' started <<<<<<]\n",
      "[2025-08-27 16:00:26,077: INFO: utils: YAML file loaded successfully: config.yaml]\n",
      "[2025-08-27 16:00:26,080: INFO: utils: Directory created or already exists: artifacts]\n",
      "[2025-08-27 16:00:26,082: ERROR: 566605: 'ConfigurationManager' object has no attribute 'get_data_transformation_config']\n",
      "Traceback (most recent call last):\n",
      "  File \"C:\\Users\\Orçamento\\AppData\\Local\\Temp\\ipykernel_27000\\566605.py\", line 10, in <module>\n",
      "    data_transformation_config = config.get_data_transformation_config()\n",
      "                                 ^^^^^^^^^^^^^^^^^^^^^^^^^^^^^^^^^^^^^\n",
      "AttributeError: 'ConfigurationManager' object has no attribute 'get_data_transformation_config'\n"
     ]
    },
    {
     "ename": "AttributeError",
     "evalue": "'ConfigurationManager' object has no attribute 'get_data_transformation_config'",
     "output_type": "error",
     "traceback": [
      "\u001b[31m---------------------------------------------------------------------------\u001b[39m",
      "\u001b[31mAttributeError\u001b[39m                            Traceback (most recent call last)",
      "\u001b[36mCell\u001b[39m\u001b[36m \u001b[39m\u001b[32mIn[10]\u001b[39m\u001b[32m, line 21\u001b[39m\n\u001b[32m     19\u001b[39m \u001b[38;5;28;01mexcept\u001b[39;00m \u001b[38;5;167;01mException\u001b[39;00m \u001b[38;5;28;01mas\u001b[39;00m e:\n\u001b[32m     20\u001b[39m     logger.exception(e)\n\u001b[32m---> \u001b[39m\u001b[32m21\u001b[39m     \u001b[38;5;28;01mraise\u001b[39;00m e\n",
      "\u001b[36mCell\u001b[39m\u001b[36m \u001b[39m\u001b[32mIn[10]\u001b[39m\u001b[32m, line 10\u001b[39m\n\u001b[32m      7\u001b[39m config = ConfigurationManager()\n\u001b[32m      9\u001b[39m \u001b[38;5;66;03m# Get the specific configuration for data transformation\u001b[39;00m\n\u001b[32m---> \u001b[39m\u001b[32m10\u001b[39m data_transformation_config = \u001b[43mconfig\u001b[49m\u001b[43m.\u001b[49m\u001b[43mget_data_transformation_config\u001b[49m()\n\u001b[32m     12\u001b[39m \u001b[38;5;66;03m# Initialize the data transformation component\u001b[39;00m\n\u001b[32m     13\u001b[39m data_transformation = DataTransformation(config=data_transformation_config)\n",
      "\u001b[31mAttributeError\u001b[39m: 'ConfigurationManager' object has no attribute 'get_data_transformation_config'"
     ]
    }
   ],
   "source": [
    "# --- STAGE 2: DATA VALIDATION ---\n",
    "STAGE_NAME = \"Data Validation stage\"\n",
    "try:\n",
    "    logger.info(f\">>>>>> Stage '{STAGE_NAME}' started <<<<<<\")\n",
    "            \n",
    "    # Initialize the configuration manager\n",
    "    config = ConfigurationManager()\n",
    "            \n",
    "    # Get the specific configuration for data validation\n",
    "    data_validation_config = config.get_data_validation_config()\n",
    "            \n",
    "    # Initialize the data validation component with the configuration\n",
    "    data_validation = DataValidation(config=data_validation_config)\n",
    "            \n",
    "    # Run the validation process\n",
    "    data_validation.validate_all_files_exist()\n",
    "            \n",
    "    logger.info(f\">>>>>> Stage '{STAGE_NAME}' completed successfully <<<<<<\\n\\nx==========x\")\n",
    "except Exception as e:\n",
    "    logger.exception(e)\n",
    "    raise e"
   ]
  }
 ],
 "metadata": {
  "kernelspec": {
   "display_name": ".venv",
   "language": "python",
   "name": "python3"
  },
  "language_info": {
   "codemirror_mode": {
    "name": "ipython",
    "version": 3
   },
   "file_extension": ".py",
   "mimetype": "text/x-python",
   "name": "python",
   "nbconvert_exporter": "python",
   "pygments_lexer": "ipython3",
   "version": "3.11.9"
  }
 },
 "nbformat": 4,
 "nbformat_minor": 5
}
